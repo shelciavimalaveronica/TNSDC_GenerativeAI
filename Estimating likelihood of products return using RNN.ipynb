{
  "nbformat": 4,
  "nbformat_minor": 0,
  "metadata": {
    "colab": {
      "provenance": []
    },
    "kernelspec": {
      "name": "python3",
      "display_name": "Python 3"
    },
    "language_info": {
      "name": "python"
    }
  },
  "cells": [
    {
      "cell_type": "code",
      "execution_count": 1,
      "metadata": {
        "colab": {
          "base_uri": "https://localhost:8080/"
        },
        "id": "PFSNdVVi-Nlk",
        "outputId": "b63735ca-dac2-4f21-d3c1-99a7d330a442"
      },
      "outputs": [
        {
          "output_type": "stream",
          "name": "stdout",
          "text": [
            "Epoch 1/10\n",
            "25/25 [==============================] - 4s 52ms/step - loss: 0.6936 - accuracy: 0.4975 - val_loss: 0.6956 - val_accuracy: 0.4700\n",
            "Epoch 2/10\n",
            "25/25 [==============================] - 0s 10ms/step - loss: 0.6926 - accuracy: 0.5075 - val_loss: 0.6956 - val_accuracy: 0.4750\n",
            "Epoch 3/10\n",
            "25/25 [==============================] - 0s 10ms/step - loss: 0.6927 - accuracy: 0.5175 - val_loss: 0.6958 - val_accuracy: 0.4550\n",
            "Epoch 4/10\n",
            "25/25 [==============================] - 0s 11ms/step - loss: 0.6932 - accuracy: 0.5113 - val_loss: 0.6967 - val_accuracy: 0.4450\n",
            "Epoch 5/10\n",
            "25/25 [==============================] - 0s 10ms/step - loss: 0.6930 - accuracy: 0.5225 - val_loss: 0.6955 - val_accuracy: 0.4550\n",
            "Epoch 6/10\n",
            "25/25 [==============================] - 0s 10ms/step - loss: 0.6925 - accuracy: 0.5225 - val_loss: 0.6970 - val_accuracy: 0.4400\n",
            "Epoch 7/10\n",
            "25/25 [==============================] - 0s 10ms/step - loss: 0.6926 - accuracy: 0.5238 - val_loss: 0.6971 - val_accuracy: 0.4450\n",
            "Epoch 8/10\n",
            "25/25 [==============================] - 0s 5ms/step - loss: 0.6922 - accuracy: 0.5138 - val_loss: 0.6969 - val_accuracy: 0.4500\n",
            "Epoch 9/10\n",
            "25/25 [==============================] - 0s 6ms/step - loss: 0.6922 - accuracy: 0.5113 - val_loss: 0.6967 - val_accuracy: 0.4500\n",
            "Epoch 10/10\n",
            "25/25 [==============================] - 0s 5ms/step - loss: 0.6925 - accuracy: 0.5188 - val_loss: 0.6970 - val_accuracy: 0.4300\n",
            "7/7 [==============================] - 0s 10ms/step - loss: 0.6970 - accuracy: 0.4300\n",
            "Test Loss: 0.6969942450523376, Test Accuracy: 0.4300000071525574\n"
          ]
        }
      ],
      "source": [
        "import numpy as np\n",
        "import tensorflow as tf\n",
        "from tensorflow.keras.models import Sequential\n",
        "from tensorflow.keras.layers import LSTM, Dense\n",
        "\n",
        "# Dummy data generation\n",
        "# Let's assume we have 1000 samples with 5 features each\n",
        "num_samples = 1000\n",
        "num_features = 5\n",
        "X = np.random.randn(num_samples, num_features)\n",
        "# Generating binary labels indicating whether the product was returned or not\n",
        "y = np.random.randint(2, size=num_samples)\n",
        "\n",
        "# Splitting data into training and testing sets\n",
        "split_ratio = 0.8\n",
        "split_index = int(split_ratio * num_samples)\n",
        "X_train, X_test = X[:split_index], X[split_index:]\n",
        "y_train, y_test = y[:split_index], y[split_index:]\n",
        "\n",
        "# Define RNN model\n",
        "model = Sequential([\n",
        "    LSTM(64, input_shape=(num_features, 1)),\n",
        "    Dense(1, activation='sigmoid')\n",
        "])\n",
        "\n",
        "# Compile model\n",
        "model.compile(optimizer='adam', loss='binary_crossentropy', metrics=['accuracy'])\n",
        "\n",
        "# Reshape input data for RNN\n",
        "X_train = np.reshape(X_train, (X_train.shape[0], X_train.shape[1], 1))\n",
        "X_test = np.reshape(X_test, (X_test.shape[0], X_test.shape[1], 1))\n",
        "\n",
        "# Train the model\n",
        "model.fit(X_train, y_train, epochs=10, batch_size=32, validation_data=(X_test, y_test))\n",
        "\n",
        "# Evaluate model on test data\n",
        "loss, accuracy = model.evaluate(X_test, y_test)\n",
        "print(f'Test Loss: {loss}, Test Accuracy: {accuracy}')"
      ]
    }
  ]
}